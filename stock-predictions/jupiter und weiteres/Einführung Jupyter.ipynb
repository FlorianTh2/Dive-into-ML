{
 "cells": [
  {
   "cell_type": "markdown",
   "metadata": {},
   "source": [
    "# Einführung zu Jupyter\n",
    "<br/>\n",
    "Markdown = Schrift <br/>\n",
    "Code = Code<br/>\n",
    "eine Zelle selekten = links auf ihren body clicken<br/>\n",
    "eine Zelle editieren = rechts in ihren Rumpf clicken<br/>\n",
    "\n",
    "* 'a' = Zelle oberhalb einfügen (falls selected)\n",
    "\n",
    "* 'b' = Zelle danach einfügen (falls selected)\n",
    "\n",
    "* 'x' = Zelle löschen (falls selected)\n",
    "\n",
    "* 'm' = change Zelle zu einer Markdown Zelle (falls selected)\n",
    "\n",
    "* 'y' = change Zelle zu einer Code Zelle (falls selected)\n",
    "\n",
    "* '#' für die groesste Ueberschrift\n",
    "\n",
    "* '##' für die nächst kleinere Überschrift usw\n",
    "\n",
    "* SHIFT+ENTER = Run Code\n",
    "\n",
    "* '*' = Bullet-List"
   ]
  }
 ],
 "metadata": {
  "kernelspec": {
   "display_name": "Python 3",
   "language": "python",
   "name": "python3"
  },
  "language_info": {
   "codemirror_mode": {
    "name": "ipython",
    "version": 3
   },
   "file_extension": ".py",
   "mimetype": "text/x-python",
   "name": "python",
   "nbconvert_exporter": "python",
   "pygments_lexer": "ipython3",
   "version": "3.6.3"
  }
 },
 "nbformat": 4,
 "nbformat_minor": 2
}
