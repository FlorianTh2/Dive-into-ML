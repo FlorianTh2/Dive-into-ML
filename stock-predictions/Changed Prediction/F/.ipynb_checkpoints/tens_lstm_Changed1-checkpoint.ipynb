{
 "cells": [
  {
   "cell_type": "markdown",
   "metadata": {},
   "source": [
    "<img src=\"pictures/Vorgehen.png\"  align=\"left\" height=\"300\" width=\"700\">"
   ]
  },
  {
   "cell_type": "code",
   "execution_count": 1,
   "metadata": {},
   "outputs": [],
   "source": [
    "import numpy as np\n",
    "import tensorflow as tf\n",
    "import pandas as pd\n",
    "#import matplotlib.pyplot as plt\n",
    "import matplotlib.pyplot as plt\n",
    "from sklearn.preprocessing import MinMaxScaler\n",
    "%matplotlib inline\n",
    "from numpy import array\n",
    "import datetime\n"
   ]
  },
  {
   "cell_type": "markdown",
   "metadata": {},
   "source": [
    "## Step 0. Loading dataset"
   ]
  },
  {
   "cell_type": "code",
   "execution_count": 2,
   "metadata": {
    "collapsed": true
   },
   "outputs": [],
   "source": [
    "tesla_stocks = pd.read_csv('AdidasAG10Years.csv')\n"
   ]
  },
  {
   "cell_type": "code",
   "execution_count": 3,
   "metadata": {
    "collapsed": false
   },
   "outputs": [
    {
     "data": {
      "text/html": [
       "<div>\n",
       "<style scoped>\n",
       "    .dataframe tbody tr th:only-of-type {\n",
       "        vertical-align: middle;\n",
       "    }\n",
       "\n",
       "    .dataframe tbody tr th {\n",
       "        vertical-align: top;\n",
       "    }\n",
       "\n",
       "    .dataframe thead th {\n",
       "        text-align: right;\n",
       "    }\n",
       "</style>\n",
       "<table border=\"1\" class=\"dataframe\">\n",
       "  <thead>\n",
       "    <tr style=\"text-align: right;\">\n",
       "      <th></th>\n",
       "      <th>date</th>\n",
       "      <th>close</th>\n",
       "      <th>volume</th>\n",
       "      <th>open</th>\n",
       "      <th>high</th>\n",
       "      <th>low</th>\n",
       "    </tr>\n",
       "  </thead>\n",
       "  <tbody>\n",
       "    <tr>\n",
       "      <th>0</th>\n",
       "      <td>16:00</td>\n",
       "      <td>104.760</td>\n",
       "      <td>57,787</td>\n",
       "      <td>NaN</td>\n",
       "      <td>105.5700</td>\n",
       "      <td>104.5200</td>\n",
       "    </tr>\n",
       "    <tr>\n",
       "      <th>1</th>\n",
       "      <td>2017/12/01</td>\n",
       "      <td>104.595</td>\n",
       "      <td>79476.0000</td>\n",
       "      <td>104.25</td>\n",
       "      <td>104.9999</td>\n",
       "      <td>104.0000</td>\n",
       "    </tr>\n",
       "    <tr>\n",
       "      <th>2</th>\n",
       "      <td>2017/11/30</td>\n",
       "      <td>104.440</td>\n",
       "      <td>54341.0000</td>\n",
       "      <td>105.35</td>\n",
       "      <td>105.4840</td>\n",
       "      <td>104.2500</td>\n",
       "    </tr>\n",
       "    <tr>\n",
       "      <th>3</th>\n",
       "      <td>2017/11/29</td>\n",
       "      <td>104.920</td>\n",
       "      <td>106076.0000</td>\n",
       "      <td>107.21</td>\n",
       "      <td>107.3500</td>\n",
       "      <td>104.9200</td>\n",
       "    </tr>\n",
       "    <tr>\n",
       "      <th>4</th>\n",
       "      <td>2017/11/28</td>\n",
       "      <td>106.285</td>\n",
       "      <td>62220.0000</td>\n",
       "      <td>106.65</td>\n",
       "      <td>106.6500</td>\n",
       "      <td>105.9754</td>\n",
       "    </tr>\n",
       "  </tbody>\n",
       "</table>\n",
       "</div>"
      ],
      "text/plain": [
       "         date    close       volume    open      high       low\n",
       "0       16:00  104.760       57,787     NaN  105.5700  104.5200\n",
       "1  2017/12/01  104.595   79476.0000  104.25  104.9999  104.0000\n",
       "2  2017/11/30  104.440   54341.0000  105.35  105.4840  104.2500\n",
       "3  2017/11/29  104.920  106076.0000  107.21  107.3500  104.9200\n",
       "4  2017/11/28  106.285   62220.0000  106.65  106.6500  105.9754"
      ]
     },
     "execution_count": 3,
     "metadata": {},
     "output_type": "execute_result"
    }
   ],
   "source": [
    "tesla_stocks.head()"
   ]
  },
  {
   "cell_type": "code",
   "execution_count": 4,
   "metadata": {
    "collapsed": true
   },
   "outputs": [],
   "source": [
    "data_to_use = tesla_stocks['close'].values\n",
    "data_to_use = np.flipud(data_to_use) # flips values to get the newest values to the end"
   ]
  },
  {
   "cell_type": "code",
   "execution_count": 5,
   "metadata": {
    "collapsed": false
   },
   "outputs": [
    {
     "name": "stdout",
     "output_type": "stream",
     "text": [
      "Total number of days in the dataset: 2522\n"
     ]
    }
   ],
   "source": [
    "print('Total number of days in the dataset: {}'.format(len(data_to_use)))"
   ]
  },
  {
   "cell_type": "markdown",
   "metadata": {},
   "source": [
    "## Step 1. Data preprocessing <br>\n",
    "#### Input :     INPUT -> lstm -> outputlayer -> mse(bptt)"
   ]
  },
  {
   "cell_type": "markdown",
   "metadata": {},
   "source": [
    "#### Step 1.1 Scaling data mit Standart-Scaler"
   ]
  },
  {
   "cell_type": "code",
   "execution_count": 6,
   "metadata": {
    "collapsed": true
   },
   "outputs": [],
   "source": [
    "scaler = MinMaxScaler(feature_range=(-2,2)) # mapped alle Werte auf [-1;1] aufgrund von eventuell sehr hohen Werten -> squard error\n"
   ]
  },
  {
   "cell_type": "markdown",
   "metadata": {},
   "source": [
    "#### Data vor der Skalierung"
   ]
  },
  {
   "cell_type": "code",
   "execution_count": 7,
   "metadata": {},
   "outputs": [
    {
     "data": {
      "image/png": "[encoded data removed]",
      "text/plain": [
       "<matplotlib.figure.Figure at 0x2aa294f4be0>"
      ]
     },
     "metadata": {},
     "output_type": "display_data"
    }
   ],
   "source": [
    "plt.figure(figsize=(25,7), frameon=False, facecolor='brown', edgecolor='blue')\n",
    "plt.title('Addidas stocks von Dezember 2007 zum Dezember 2017')\n",
    "plt.xlabel('Tage')\n",
    "plt.ylabel('Scaled value of stocks')\n",
    "plt.plot(data_to_use, label='Stocks data')\n",
    "plt.legend()\n",
    "plt.show()"
   ]
  },
  {
   "cell_type": "code",
   "execution_count": 8,
   "metadata": {
    "collapsed": false
   },
   "outputs": [],
   "source": [
    "reshaped_dataset = data_to_use.reshape(-1,1) #why? cause 1 feature\n",
    "   #reshape(3,4,2)\n",
    "   #reshape = Form des Array umformen ohne Daten zu ändern, lesen wie umformen into reshape([3],[4],[2])\n",
    "   #-1 = anpassung dieser Dimension an die anderen, die man reshape gibt\n",
    "   #reshape(-1,1) bedeuted also das man irgendwie [unbekannt][1] haben will, wobei sich unbekannt eben aus\n",
    "   #[1] und der Gesamtzahl ableiten lässt\n",
    "scaler = scaler.fit(reshaped_dataset)\n",
    "scaled_dataset = scaler.transform(reshaped_dataset)"
   ]
  },
  {
   "cell_type": "code",
   "execution_count": 9,
   "metadata": {
    "collapsed": false,
    "scrolled": true
   },
   "outputs": [
    {
     "data": {
      "image/png": "[encoded data removed]",
      "text/plain": [
       "<matplotlib.figure.Figure at 0x2aa28f3f4e0>"
      ]
     },
     "metadata": {},
     "output_type": "display_data"
    }
   ],
   "source": [
    "plt.figure(figsize=(25,7), frameon=False, facecolor='brown', edgecolor='blue')\n",
    "plt.title('Scaled Addidas stocks von August 2014 bis August 2017')\n",
    "plt.xlabel('Tage')\n",
    "plt.ylabel('Skalierte prices')\n",
    "plt.plot(scaled_dataset, label='Stocks data')\n",
    "plt.legend()\n",
    "plt.show()"
   ]
  },
  {
   "cell_type": "code",
   "execution_count": 10,
   "metadata": {},
   "outputs": [],
   "source": [
    "window_size_all = 7 #muss durch 7 teilbar sein\n",
    "batch_size = 8\n",
    "epochs = 1 #eig 3\n",
    "train_range = 704 #muss durch batch_size teil-bar sein\n",
    "dropout=0.2\n",
    "number_of_layers= 3\n",
    "learning_rate=0.0001\n",
    "hidden_layer_size=512\n",
    "logs_path= 'logs/'"
   ]
  },
  {
   "cell_type": "markdown",
   "metadata": {},
   "source": [
    "###### windows data <br>\n",
    "values 1-7 in einem window <br >\n",
    "der 7. value wird zusätzlich in eben y gespeichert (=Label)"
   ]
  },
  {
   "cell_type": "code",
   "execution_count": 11,
   "metadata": {
    "collapsed": true
   },
   "outputs": [],
   "source": [
    "def window_data(data, window_size):\n",
    "    X = []\n",
    "    y = []\n",
    "    \n",
    "    i = 0\n",
    "    while (i + window_size) <= len(data) - 1: \n",
    "        X.append(data[i:i+window_size]) # new way checked\n",
    "        y.append(data[i+window_size]) # new way checked\n",
    "        \n",
    "        i += 1\n",
    "    assert len(X) ==  len(y)\n",
    "    return X, y"
   ]
  },
  {
   "cell_type": "markdown",
   "metadata": {},
   "source": [
    "#### Step 1.2 Windowing the dataset"
   ]
  },
  {
   "cell_type": "code",
   "execution_count": 12,
   "metadata": {
    "collapsed": false
   },
   "outputs": [],
   "source": [
    "X, y = window_data(scaled_dataset, window_size_all) #mn\n",
    "#X, y = window_data(reshaped_dataset, window_size_all)"
   ]
  },
  {
   "cell_type": "markdown",
   "metadata": {},
   "source": [
    "#### Step 1.3 Creating Training and Testing sets\n",
    "trainingsdaten: 0-700 <br>\n",
    "testDaten 700-X"
   ]
  },
  {
   "cell_type": "code",
   "execution_count": 13,
   "metadata": {
    "collapsed": false
   },
   "outputs": [
    {
     "name": "stdout",
     "output_type": "stream",
     "text": [
      "X_train size: (704, 7, 1)\n",
      "y_train size: (704, 1)\n",
      "X_test size: (1811, 7, 1)\n",
      "y_test size: (1811, 1)\n"
     ]
    }
   ],
   "source": [
    "X_train  = np.array(X[:train_range])\n",
    "y_train = np.array(y[:train_range])\n",
    "\n",
    "X_test = np.array(X[train_range:])\n",
    "y_test = np.array(y[train_range:])\n",
    "\n",
    "print(\"X_train size: {}\".format(X_train.shape))\n",
    "print(\"y_train size: {}\".format(y_train.shape))\n",
    "print(\"X_test size: {}\".format(X_test.shape))\n",
    "print(\"y_test size: {}\".format(y_test.shape))"
   ]
  },
  {
   "cell_type": "markdown",
   "metadata": {},
   "source": [
    "## Step 2. RNN - LSTM - Netzwerk definieren -> (Funktionen und Objekte definieren)"
   ]
  },
  {
   "cell_type": "markdown",
   "metadata": {},
   "source": [
    "#### Hidden Layer :     input -> LSTM -> outputlayer -> mse(bptt) <br>\n",
    " Erstellung einer Zelle (komplettes Hiddenlayer)"
   ]
  },
  {
   "cell_type": "code",
   "execution_count": 14,
   "metadata": {
    "collapsed": true
   },
   "outputs": [],
   "source": [
    "def LSTM_cell(hidden_layer_size, batch_size,number_of_layers,dropout_rate, dropout=True):\n",
    "    \n",
    "    #layer = tf.contrib.rnn.BasicLSTMCell(hidden_layer_size)\n",
    "    \n",
    "    \n",
    "   \n",
    "    #layer_list = [layer]*number_of_layers\n",
    "    layer_list = []\n",
    "    for counter in range(number_of_layers):\n",
    "        layer = tf.nn.rnn_cell.BasicLSTMCell(hidden_layer_size)\n",
    "        if dropout:\n",
    "            layer = tf.contrib.rnn.DropoutWrapper(layer, output_keep_prob=dropout_rate)\n",
    "        layer_list.append(layer)\n",
    "        \n",
    "\n",
    "        \n",
    "    cell = tf.contrib.rnn.MultiRNNCell(layer_list) # multi-RNN stacked Basic Cell übereinander: basiccell1 -> basiccell2 -> bc3 -> ... -> output\n",
    "    #warum diese Syntax -> [layer] * number_of_layers ? Weil eine Liste von BasicLSTMCell -en gebraucht wird und durch Python-Syntax wird dadurch number_of_hiddenlayers oft ein layer hier aka BasicLSTMCell erstellt\n",
    "    \n",
    "    init_state = cell.zero_state(batch_size, tf.float32) #zero_state -> alle values to 0\n",
    "                                    #evt 1\n",
    "    print(type(init_state),\"n\",init_state)\n",
    "    return cell, init_state"
   ]
  },
  {
   "cell_type": "markdown",
   "metadata": {},
   "source": [
    "#### Output Layer :     Input -> LSTM -> OUTPUTLAYER -> mse(bptt)"
   ]
  },
  {
   "cell_type": "code",
   "execution_count": 15,
   "metadata": {
    "collapsed": true
   },
   "outputs": [],
   "source": [
    "def output_layer(lstm_output, in_size, out_size):\n",
    "    \n",
    "    x = lstm_output[:, -1, :] #es interessiert nur der letzte output... -1 d.h. in python letztes element, [batch_size][timesteps][features] -> [batch_size][hiddenlayer_size]\n",
    "    weights = tf.Variable(tf.truncated_normal([in_size, out_size], stddev=0.05), name='output_layer_weights')\n",
    "    bias = tf.Variable(tf.zeros([out_size]), name='output_layer_bias')\n",
    "    with tf.name_scope('Output_OutputLayer'):\n",
    "        output = tf.matmul(x, weights) + bias #result: 7x1 ! # warum matmul und nicht skalar-wise                                                                                                     -> scalar -wise nur bei normalen rnn, da man selbe matrizen mit einander multipliziert oder eben bei multidim. NN wenn jedes Layer die selbe Form hat dann auch irgendwie glaube\n",
    "                                          #hier: 7x1 * 1x1   \n",
    "                                            #warum keine Aktivierungsfunktion ? -> wir rechnen keine Wahrscheinlichkeiten aus sondern direkt die Preis-Werte\n",
    "    \n",
    "    return output #7x1 -> es folgen also Anzahl der batches * 7x1 Predictions | anders | Anzahl batches * batchSize * 1 Predictions, da pro Windows 1 Prediction kommt und batch Size sagt, wie viele Window in 1 batch kommen"
   ]
  },
  {
   "cell_type": "markdown",
   "metadata": {},
   "source": [
    "###### gradient clipping  <br>\n",
    "gradienten clipping = man beschränkt den exploding gradient auf eine max Zahl, sodass er nicht über diese max Zahl (Limit) gehen kann <br>\n",
    "clipping hilft gegen exploding gradient, siehe standford folie 11: 46, code ist fast der selbe  <br>\n",
    "eigentlich nur bei rekurrenten neuronalen Netzen -> <b> lstm gegen vanishing and clipping gegen exploding <b>"
   ]
  },
  {
   "cell_type": "code",
   "execution_count": 16,
   "metadata": {
    "collapsed": true
   },
   "outputs": [],
   "source": [
    "def opt_loss(logits, targets, learning_rate, grad_clip_margin):\n",
    "    \n",
    "    losses = []\n",
    "    for i in range(targets.get_shape()[0]):\n",
    "        losses.append([(tf.pow(logits[i] - targets[i], 2))]) #mse\n",
    "        \n",
    "        \n",
    "        ####\n",
    "        #hier müsste eigentlich accuracy berechnet werden, eben wie auch loss -> gucken nach tensorflow define loss and accuracy\n",
    "        #nein doch nicht, da accuarcy ja nicht nur bezüglich unserer richtigen Predictions berechnet wird, hier wird ja \n",
    "        ###\n",
    "        \n",
    "        \n",
    "    with tf.name_scope('Loss'):    \n",
    "        loss = tf.reduce_sum(losses)/(2*batch_size)\n",
    "    #Cliping the gradient loss\n",
    "    \n",
    "    gradients = tf.gradients(loss, tf.trainable_variables(),name=\"gradientsCalculated\")\n",
    "    clipper_, _ = tf.clip_by_global_norm(gradients, grad_clip_margin,name=\"ClipperIsSetTo4\")\n",
    "    optimizer = tf.train.AdamOptimizer(learning_rate,name=\"AdamOptimizer\")\n",
    "    train_optimizer = optimizer.apply_gradients(zip(gradients, tf.trainable_variables()),name=\"applyGradientsForOptimisation\") #zip: a = [a1,a2]; b=[b1,b2] zip(a,b) = [(a1,b1),(a2,b2)]\n",
    "    return loss, train_optimizer"
   ]
  },
  {
   "cell_type": "markdown",
   "metadata": {},
   "source": [
    "#### RNN - Object: <br/> <br/> \n",
    "Hiddenlayer=1, hidden_layer_size=512, learning_rate=0.001, dropout=80%, window size=7, batch_size=7, "
   ]
  },
  {
   "cell_type": "code",
   "execution_count": 17,
   "metadata": {
    "collapsed": false
   },
   "outputs": [],
   "source": [
    "class StockPredictionRNN(object):\n",
    "    \n",
    "    def __init__(self, dropout_rate,learning_rate=0.001, batch_size=7, hidden_layer_size=512, number_of_layers=2, \n",
    "                 dropout=True, number_of_classes=1, gradient_clip_margin=4, window_size=7):\n",
    "    \n",
    "        self.inputs = tf.placeholder(tf.float32, [1, window_size, 1], name='input_data') # new way checked\n",
    "        self.targets = tf.placeholder(tf.float32, [batch_size, 1], name='targets') # new way checked\n",
    "        \n",
    "        \n",
    "\n",
    "        cell, init_state = LSTM_cell(hidden_layer_size, batch_size, number_of_layers, dropout, dropout_rate) # new way checked\n",
    "        #outputs, states = tf.nn.dynamic_rnn(cell, self.inputs, initial_state=init_state)\n",
    "        \n",
    "        for i in range(batch_size):\n",
    "            outputs, states = tf.nn.dynamic_rnn(cell, self.inputs, initial_state=init_state)\n",
    "            #welche shape hat outputs\n",
    "            #outputs = tf.Print(outputs,[outputs, tf.shape(outputs)], message=\"value of output:\" )\n",
    "    \n",
    "        \n",
    "        self.logits = output_layer(outputs, hidden_layer_size, number_of_classes) # logits = die wirklichen Predictions des netzwerkes im Format [batchNummer][AnzahlPredictions] wobei hier: [7][1]  \n",
    "                                #hier wird gecuttet\n",
    "            \n",
    "        with tf.name_scope('lossScope'):\n",
    "            self.loss, self.opt = opt_loss(self.logits, self.targets, learning_rate, gradient_clip_margin)\n",
    "            tf.summary.scalar(\"loss1\", self.loss)\n",
    "            \n",
    "        \n",
    "        with tf.name_scope('accuracyScope'):\n",
    "           \n",
    "            self.correct_prediction = tf.equal(tf.argmax(self.logits,1),tf.argmax(self.targets,1),name=\"TensorOfCorrectPredictions\")\n",
    "            #self.correct_prediction = tf.equal((self.logits),(self.targets),name=\"TensorOfCorrectPredictions\")\n",
    "            \n",
    "            print(\"logitsShape\",self.logits.shape)\n",
    "            print(\"logitsShape\",self.targets.shape)\n",
    "            #self.arg1 = tf.argmax(self.logits,1)\n",
    "            #self.arg2= tf.argmax(self.targets,1) liefert trotz gleicher funktion verschieden-artige Ergebnisse -> 1. liefert eben den index, 2. liefert ganz normal 7x1 Ausgabe\n",
    "           # list_args =[self.arg1,self.arg2]\n",
    "           # self.targetsGucekn = self.targets\n",
    "            \n",
    "            self.accuracy = tf.reduce_mean(tf.cast(self.correct_prediction, tf.float32))\n",
    "            tf.summary.scalar(\"accuracy\", self.accuracy)\n",
    "        \n",
    "        self.merged_summary_op = tf.summary.merge_all()\n",
    "       # self.accuracy,_ = tf.metrics.accuracy(labels=tf.argmax(self.targets, 1,name=\"MaxIndexSearchTargets\"), predictions=tf.argmax(self.logits,1,name=\"MaxIndexSearchLogits\"),name=\"Accuracy\")"
   ]
  },
  {
   "cell_type": "markdown",
   "metadata": {},
   "source": [
    "## Step 3. RNN - LSTM - Netzwerk erstellen -> (Model als Objekt erstellen)"
   ]
  },
  {
   "cell_type": "code",
   "execution_count": 18,
   "metadata": {
    "collapsed": false
   },
   "outputs": [
    {
     "name": "stdout",
     "output_type": "stream",
     "text": [
      "<class 'tuple'> n (LSTMStateTuple(c=<tf.Tensor 'MultiRNNCellZeroState/DropoutWrapperZeroState/BasicLSTMCellZeroState/zeros:0' shape=(8, 512) dtype=float32>, h=<tf.Tensor 'MultiRNNCellZeroState/DropoutWrapperZeroState/BasicLSTMCellZeroState/zeros_1:0' shape=(8, 512) dtype=float32>), LSTMStateTuple(c=<tf.Tensor 'MultiRNNCellZeroState/DropoutWrapperZeroState_1/BasicLSTMCellZeroState/zeros:0' shape=(8, 512) dtype=float32>, h=<tf.Tensor 'MultiRNNCellZeroState/DropoutWrapperZeroState_1/BasicLSTMCellZeroState/zeros_1:0' shape=(8, 512) dtype=float32>), LSTMStateTuple(c=<tf.Tensor 'MultiRNNCellZeroState/DropoutWrapperZeroState_2/BasicLSTMCellZeroState/zeros:0' shape=(8, 512) dtype=float32>, h=<tf.Tensor 'MultiRNNCellZeroState/DropoutWrapperZeroState_2/BasicLSTMCellZeroState/zeros_1:0' shape=(8, 512) dtype=float32>))\n",
      "logitsShape (8, 1)\n",
      "logitsShape (8, 1)\n"
     ]
    }
   ],
   "source": [
    "tf.reset_default_graph()\n",
    "model = StockPredictionRNN(batch_size=batch_size, dropout_rate=dropout, window_size=window_size_all,number_of_layers = number_of_layers,learning_rate=learning_rate, hidden_layer_size=hidden_layer_size)"
   ]
  },
  {
   "cell_type": "markdown",
   "metadata": {},
   "source": [
    "## Step 4. Netzwerk trainieren"
   ]
  },
  {
   "cell_type": "code",
   "execution_count": 19,
   "metadata": {
    "collapsed": true
   },
   "outputs": [],
   "source": [
    "session =  tf.Session()"
   ]
  },
  {
   "cell_type": "code",
   "execution_count": 20,
   "metadata": {
    "collapsed": true
   },
   "outputs": [],
   "source": [
    "session.run(tf.global_variables_initializer())\n",
    "session.run(tf.local_variables_initializer())\n"
   ]
  },
  {
   "cell_type": "code",
   "execution_count": 21,
   "metadata": {
    "collapsed": false
   },
   "outputs": [
    {
     "name": "stdout",
     "output_type": "stream",
     "text": [
      "Epoch 1/1  Current loss: 0.10649111121892929\n"
     ]
    }
   ],
   "source": [
    "epoch_loss = []\n",
    "accuracy = 0.0\n",
    "\n",
    "\n",
    "tf.summary.scalar(\"accuracy\", accuracy)\n",
    "\n",
    "summary_writer = tf.summary.FileWriter(logs_path,session.graph)\n",
    "\n",
    "total_batch = 0\n",
    "\n",
    "for i in range(epochs): # new way checked\n",
    "    traind_scores = []\n",
    "    ii = 0\n",
    "    \n",
    "    while(ii + batch_size) <= len(X_train): # new way checkedv\n",
    "        total_batch+=1              # new way checked            \n",
    "        #X_batch = X_train[ii:ii+batch_size]\n",
    "        X_batch = X_train[ii] # new way checked\n",
    "        \n",
    "        y_batch = y_train[ii:ii+batch_size] # new way checked\n",
    "        o, c, _,summary = session.run([model.logits, model.loss, model.opt,model.merged_summary_op], feed_dict={model.inputs:X_batch, model.targets:y_batch})\n",
    "        #print(\"Logits\", o)\n",
    "        #print(\"targets\", y_batch)\n",
    "        \n",
    "        #print(\"Arg1\",arg1)\n",
    "        #print(\"Arg2\",arg2)\n",
    "        #print(\"correct_pre\", correct_pre)\n",
    "        #print(\"Accuracy\", accuracy)\n",
    "        \n",
    "        #o=model.logits=logits 7x1 bzw [batchSize][Prediction] -> windowsSize wurde herausgestrichen, da pro windows Size ehh immer 1 prediction war -> windowSize kann raus\n",
    "        #c=model.loss=loss\n",
    "        #_=model.opt=für Weiteres unbenutzt = train_optimizer        \n",
    "\n",
    "        summary_writer.add_summary(summary, i * total_batch+ii)     \n",
    "        \n",
    "        epoch_loss.append(c)\n",
    "        traind_scores.append(o)\n",
    "        ii += batch_size\n",
    "    if (i % 1) == 0:\n",
    "        print('Epoch {}/{}'.format((i+1), epochs), ' Current loss: {}'.format(np.mean(epoch_loss))) #i+1 da range(epochs) von 0 beginnt, ohne +1 -> 0/1 beim ersten Durchlauf"
   ]
  },
  {
   "cell_type": "code",
   "execution_count": 22,
   "metadata": {
    "collapsed": true
   },
   "outputs": [],
   "source": [
    "sup =[] #wird die Werte der Predictions speichern, Zweck: von 7x1(traind_scores) to [7]\n",
    "for i in range(len(traind_scores)):\n",
    "    for j in range(len(traind_scores[i])):\n",
    "        sup.append(traind_scores[i][j])"
   ]
  },
  {
   "cell_type": "markdown",
   "metadata": {},
   "source": [
    "## Step 5. Testing the network <br>"
   ]
  },
  {
   "cell_type": "code",
   "execution_count": 23,
   "metadata": {
    "collapsed": true
   },
   "outputs": [],
   "source": [
    "#tests = []\n",
    "#i = 0\n",
    "#while i+batch_size <= len(X_test): \n",
    "    \n",
    "#    o= session.run([model.logits], feed_dict={model.inputs:X_test[i:i+batch_size]})\n",
    "#   # summary_writer.add_summary(summary, 1 * total_batch+i)\n",
    "#   # print(acc)\n",
    "#    \n",
    "#    i += batch_size\n",
    "#    tests.append(o)"
   ]
  },
  {
   "cell_type": "code",
   "execution_count": 24,
   "metadata": {},
   "outputs": [
    {
     "ename": "SyntaxError",
     "evalue": "invalid syntax (<ipython-input-24-d771ebbba126>, line 13)",
     "output_type": "error",
     "traceback": [
      "\u001b[1;36m  File \u001b[1;32m\"<ipython-input-24-d771ebbba126>\"\u001b[1;36m, line \u001b[1;32m13\u001b[0m\n\u001b[1;33m    X_test.\u001b[0m\n\u001b[1;37m           ^\u001b[0m\n\u001b[1;31mSyntaxError\u001b[0m\u001b[1;31m:\u001b[0m invalid syntax\n"
     ]
    }
   ],
   "source": []
  },
  {
   "cell_type": "code",
   "execution_count": null,
   "metadata": {
    "collapsed": true
   },
   "outputs": [],
   "source": [
    "#just extracting [[[VALUES]]] and transform it to a flat list [VALUES]\n",
    "test_results = []\n",
    "for i in range(len(tests)):\n",
    "    for j in range(len(tests[i][0])):\n",
    "        test_results.append(tests[i][0][j])"
   ]
  },
  {
   "cell_type": "markdown",
   "metadata": {},
   "source": [
    "## Step 6. Plotting predictions from the network"
   ]
  },
  {
   "cell_type": "markdown",
   "metadata": {},
   "source": [
    "#### zuerst skalierte Variante plotten:"
   ]
  },
  {
   "cell_type": "code",
   "execution_count": null,
   "metadata": {},
   "outputs": [],
   "source": [
    "print(len(sup))\n",
    "plt.figure(figsize=(100, 25))\n",
    "plt.plot(scaled_dataset, label='Original data')\n",
    "plt.scatter(range(train_range),sup, label='Training data')\n",
    "plt.scatter(range(train_range,len(test_results)+train_range), test_results, label='Testing data') #[train_range:len(tests_new)+train_range]\n",
    "plt.legend()\n",
    "plt.savefig('plots/plot-scaled ' + datetime.datetime.now().strftime(\"%Y-%m-%d %H:%M:%S\").replace(\":\", \"_\")+ '.png')\n",
    "plt.show()\n"
   ]
  },
  {
   "cell_type": "markdown",
   "metadata": {},
   "source": [
    "#### danach unskalierte Variante:"
   ]
  },
  {
   "cell_type": "code",
   "execution_count": null,
   "metadata": {
    "collapsed": false
   },
   "outputs": [],
   "source": [
    "#sup #= scaler.inverse_transform(sup)\n",
    "sup = scaler.inverse_transform(sup)\n",
    "test_results_scaled = scaler.inverse_transform(test_results) #scaler.inverse_transform(test_results)\n",
    "#test_results_scaled = scaler.transform(test_results_scaled)\n",
    "test_results_reshaped = test_results_scaled.reshape(-1)\n",
    "\n",
    "#test_results = [scaler.inverse_transform(x) for x in test_results]\n",
    "                                         \n",
    "\n",
    "\n",
    "plt.figure(figsize=(100, 25))\n",
    "plt.plot(data_to_use, label='Original data')\n",
    "plt.scatter(range(train_range),sup, label='Training data')\n",
    "plt.scatter(range(train_range,len(test_results_reshaped)+train_range), test_results_reshaped, label='Testing data') #, \n",
    "plt.legend()\n",
    "plt.savefig('plots/plot-unscaled ' + datetime.datetime.now().strftime(\"%Y-%m-%d %H:%M:%S\").replace(\":\", \"_\") + '.png')\n",
    "plt.show()"
   ]
  },
  {
   "cell_type": "code",
   "execution_count": null,
   "metadata": {},
   "outputs": [],
   "source": [
    "#var_23 = [v for v in tf.global_variables() if v.name == \"accuracy\"]\n",
    "#value = session.run(var_23)\n",
    "#print(value)\n"
   ]
  },
  {
   "cell_type": "code",
   "execution_count": null,
   "metadata": {
    "collapsed": true
   },
   "outputs": [],
   "source": [
    "var_names = [v.name for v in tf.trainable_variables()]\n",
    "values = session.run(var_names)\n",
    "for k, v in zip(var_names, values):\n",
    "    print(k, v)\n",
    "\n",
    "session.close()"
   ]
  },
  {
   "cell_type": "code",
   "execution_count": null,
   "metadata": {},
   "outputs": [],
   "source": [
    "string = \"hi\"\n",
    "result = [string]*3\n",
    "print(id(result[0]))\n",
    "print(id(result[1]))\n",
    "string1 = \"cool\"\n",
    "print(id(string1))"
   ]
  },
  {
   "cell_type": "markdown",
   "metadata": {},
   "source": [
    "## Accuracy"
   ]
  },
  {
   "cell_type": "code",
   "execution_count": null,
   "metadata": {},
   "outputs": [],
   "source": [
    "# Accuracy\n",
    "   # correct_pred = tf.equal(tf.argmax(logits, 1), tf.argmax(labels_, 1))\n",
    "    #accuracy = tf.reduce_mean(tf.cast(correct_pred, tf.float32), name='accuracy')"
   ]
  }
 ],
 "metadata": {
  "anaconda-cloud": {},
  "kernelspec": {
   "display_name": "Python 3",
   "language": "python",
   "name": "python3"
  },
  "language_info": {
   "codemirror_mode": {
    "name": "ipython",
    "version": 3
   },
   "file_extension": ".py",
   "mimetype": "text/x-python",
   "name": "python",
   "nbconvert_exporter": "python",
   "pygments_lexer": "ipython3",
   "version": "3.6.3"
  }
 },
 "nbformat": 4,
 "nbformat_minor": 2
}
