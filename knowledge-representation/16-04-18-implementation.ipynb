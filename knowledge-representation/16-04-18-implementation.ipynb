{
 "cells": [
  {
   "cell_type": "markdown",
   "metadata": {},
   "source": [
    "# Univariate Linear Regression"
   ]
  },
  {
   "cell_type": "code",
   "execution_count": 210,
   "metadata": {},
   "outputs": [],
   "source": [
    "import numpy as np\n",
    "import pandas as pd\n",
    "import matplotlib.pyplot as plt\n",
    "%matplotlib inline\n",
    "import math\n",
    "import io\n",
    "from mpl_toolkits.mplot3d import Axes3D\n",
    "from matplotlib import cm\n",
    "from matplotlib.ticker import LinearLocator, FormatStrFormatter"
   ]
  },
  {
   "cell_type": "markdown",
   "metadata": {},
   "source": [
    "1) Erstellen Sie zuerst zum Testen Ihrer Lösung automatische Daten,\n",
    "d.h. Punkte die auf einer Geraden liegen und deren y-Werte mittels eines gaussverteilten \"Rauschen\" von idealen Werten abweichen. x und y sollen dabei zwei gleichlange numpy-Arrays sein."
   ]
  },
  {
   "cell_type": "code",
   "execution_count": 211,
   "metadata": {},
   "outputs": [],
   "source": [
    "def linear_gaussian_dataset(x, y, multiplier = 1.0):\n",
    "    noise = np.random.normal(0, 1, len(x))\n",
    "    return y + multiplier * noise"
   ]
  },
  {
   "cell_type": "code",
   "execution_count": 212,
   "metadata": {},
   "outputs": [],
   "source": [
    "X = np.linspace(0, 10, 100)\n",
    "Y = 2.5 * X + 1"
   ]
  },
  {
   "cell_type": "code",
   "execution_count": 213,
   "metadata": {},
   "outputs": [
    {
     "data": {
      "image/png": "[encoded data removed]",
      "text/plain": [
       "<matplotlib.figure.Figure at 0x241117f9a58>"
      ]
     },
     "metadata": {},
     "output_type": "display_data"
    },
    {
     "data": {
      "image/png": "[encoded data removed]",
      "text/plain": [
       "<matplotlib.figure.Figure at 0x24112b056a0>"
      ]
     },
     "metadata": {},
     "output_type": "display_data"
    }
   ],
   "source": [
    "def fast_plot(x, y, titel, description):\n",
    "    plt.scatter(x,y,label=description)\n",
    "    plt.title(titel) \n",
    "    plt.legend()\n",
    "    plt.show()\n",
    "\n",
    "fast_plot(X, Y, 'Base Function', 'f(x) = y = 2.5x + 1')\n",
    "Y = linear_gaussian_dataset(X, Y, multiplier = 2.0)\n",
    "fast_plot(X, Y, 'Function with Noise', 'f(x) = y = 2.5x + 1')"
   ]
  },
  {
   "cell_type": "markdown",
   "metadata": {},
   "source": [
    "2) Implementieren Sie die Hypothese (lineares Modell) als Python Funktion: \n",
    "```python\n",
    "linear_hypothesis(theta_0, theta_1)\n",
    "```\n",
    "Die Pythonfunktion soll dabei eine Funktion zurückgeben:\n",
    "```python\n",
    "hypothesis = linear_hypothesis(2., 3.)\n",
    "print hypothesis(np.array([1., 2.]))\n",
    "[ 5.  8.]\n",
    "```"
   ]
  },
  {
   "cell_type": "code",
   "execution_count": 214,
   "metadata": {},
   "outputs": [
    {
     "name": "stdout",
     "output_type": "stream",
     "text": [
      "[5.0, 8.0]\n"
     ]
    }
   ],
   "source": [
    "def linear_hypothesis(theta_0, theta_1):\n",
    "    return lambda values: [theta_0 + theta_1 * x for x in values]\n",
    "\n",
    "hypothesis = linear_hypothesis(2., 3.)\n",
    "print(hypothesis(np.array([1., 2.])))"
   ]
  },
  {
   "cell_type": "markdown",
   "metadata": {},
   "source": [
    "3) Implementieren Sie die Kostenfunktion J als Python Funktion:\n",
    "```python\n",
    "def cost_function(hypothesis, x, y):\n",
    "```\n",
    "Die Pythonfunktion soll dabei eine Funktion zurückgeben, die\n",
    "die beiden Parameter theta_0 und theta_1 aufnimmt.\n",
    "```python\n",
    "j = cost_function(linear_hypothesis, x, y)\n",
    "print j(2.1, 2.9)\n",
    "41.20  # Wert abhaengig von x und y\n",
    "```"
   ]
  },
  {
   "cell_type": "code",
   "execution_count": 215,
   "metadata": {},
   "outputs": [
    {
     "name": "stdout",
     "output_type": "stream",
     "text": [
      "7.66688047033\n"
     ]
    }
   ],
   "source": [
    "def cost_function(hypothesis, x, y):\n",
    "    return lambda theta_0, theta_1: 1 / (2 * float(len(x))) * np.sum(np.square(hypothesis(theta_0, theta_1)(x) - y))\n",
    "\n",
    "j = cost_function(linear_hypothesis, x, y)\n",
    "print(j(2.1, 2.9))"
   ]
  },
  {
   "cell_type": "markdown",
   "metadata": {},
   "source": [
    " 4) Plotten Sie die Kostenfunktion in der Umgebung des Minimums als Contourplot. Verwenden Sie hierzu plt.contour(X,Y,Z) und zum Erzeugen des X-Y-Oberflaechengitters meshgrid(..)"
   ]
  }
 ],
 "metadata": {
  "kernelspec": {
   "display_name": "Python 3",
   "language": "python",
   "name": "python3"
  },
  "language_info": {
   "codemirror_mode": {
    "name": "ipython",
    "version": 3
   },
   "file_extension": ".py",
   "mimetype": "text/x-python",
   "name": "python",
   "nbconvert_exporter": "python",
   "pygments_lexer": "ipython3",
   "version": "3.5.4"
  }
 },
 "nbformat": 4,
 "nbformat_minor": 2
}
